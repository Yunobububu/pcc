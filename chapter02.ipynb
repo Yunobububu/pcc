{
 "cells": [
  {
   "cell_type": "code",
   "execution_count": 1,
   "id": "05e1640b-c34e-48e2-af7c-c6dea993f6da",
   "metadata": {},
   "outputs": [
    {
     "name": "stdout",
     "output_type": "stream",
     "text": [
      "Hello Python World\n",
      "Hello Python Crash Course World\n"
     ]
    }
   ],
   "source": [
    "message = \"Hello Python World\"\n",
    "print(message)\n",
    "\n",
    "message = \"Hello Python Crash Course World\"\n",
    "print(message)"
   ]
  },
  {
   "cell_type": "code",
   "execution_count": 2,
   "id": "1db7d785-82e8-4ba7-a3b5-48fb5ad5c6fa",
   "metadata": {},
   "outputs": [
    {
     "name": "stdout",
     "output_type": "stream",
     "text": [
      "Ada Lovelac\n"
     ]
    }
   ],
   "source": [
    "name = \"ada lovelac\"\n",
    "print(name.title())"
   ]
  },
  {
   "cell_type": "code",
   "execution_count": 3,
   "id": "da8392f7-ef99-4533-8e84-aa762eeedf94",
   "metadata": {},
   "outputs": [
    {
     "name": "stdout",
     "output_type": "stream",
     "text": [
      "ada lovelac\n",
      "ADA LOVELAC\n"
     ]
    }
   ],
   "source": [
    "print(name.lower())\n",
    "print(name.upper())"
   ]
  },
  {
   "cell_type": "code",
   "execution_count": 4,
   "id": "a7e53614-9d83-4cd7-a312-96b5985f55a6",
   "metadata": {},
   "outputs": [
    {
     "name": "stdout",
     "output_type": "stream",
     "text": [
      "ada lovelace\n"
     ]
    }
   ],
   "source": [
    "first_name = \"ada\"\n",
    "last_name = \"lovelace\"\n",
    "print(first_name + \" \" + last_name)"
   ]
  },
  {
   "cell_type": "code",
   "execution_count": 5,
   "id": "224ad6cd-a7cc-43f9-bcfb-a43ed005e939",
   "metadata": {},
   "outputs": [
    {
     "name": "stdout",
     "output_type": "stream",
     "text": [
      "Hello Ada Lovelace!\n"
     ]
    }
   ],
   "source": [
    "full_name = first_name + \" \" + last_name\n",
    "print(\"Hello\" + \" \" + full_name.title() +  \"!\"  )"
   ]
  },
  {
   "cell_type": "code",
   "execution_count": 6,
   "id": "cd5d9086-7d3f-4be9-9d79-0a48b94df629",
   "metadata": {},
   "outputs": [
    {
     "name": "stdout",
     "output_type": "stream",
     "text": [
      "Python\n",
      "\tPython\n"
     ]
    }
   ],
   "source": [
    "print(\"Python\")\n",
    "print(\"\\tPython\")"
   ]
  },
  {
   "cell_type": "code",
   "execution_count": 7,
   "id": "ad01bff0-3d78-4b93-812e-feb9056131f7",
   "metadata": {},
   "outputs": [
    {
     "name": "stdout",
     "output_type": "stream",
     "text": [
      "Language:\n",
      "Python\n",
      "C\n",
      "Java\n"
     ]
    }
   ],
   "source": [
    "print(\"Language:\\nPython\\nC\\nJava\")"
   ]
  },
  {
   "cell_type": "code",
   "execution_count": 8,
   "id": "ec4583f1-e2d3-4554-9104-89fe07bcac92",
   "metadata": {},
   "outputs": [
    {
     "name": "stdout",
     "output_type": "stream",
     "text": [
      "Language:\n",
      "\tPython\n",
      "\tC\n",
      "\tJava\n"
     ]
    }
   ],
   "source": [
    "print(\"Language:\\n\\tPython\\n\\tC\\n\\tJava\")"
   ]
  },
  {
   "cell_type": "code",
   "execution_count": 9,
   "id": "32ed6410-79ba-4e53-b23b-07c38d6a8e4b",
   "metadata": {},
   "outputs": [
    {
     "data": {
      "text/plain": [
       "'python '"
      ]
     },
     "execution_count": 9,
     "metadata": {},
     "output_type": "execute_result"
    }
   ],
   "source": [
    "favourite_language = 'python '\n",
    "favourite_language"
   ]
  },
  {
   "cell_type": "code",
   "execution_count": 10,
   "id": "4dc1afef-6b1a-4c3f-b605-ebdcf266f3f8",
   "metadata": {},
   "outputs": [
    {
     "data": {
      "text/plain": [
       "'python'"
      ]
     },
     "execution_count": 10,
     "metadata": {},
     "output_type": "execute_result"
    }
   ],
   "source": [
    "favourite_language.rstrip()"
   ]
  },
  {
   "cell_type": "code",
   "execution_count": 12,
   "id": "e52c0952-bee1-4dd4-a3d7-45a1c64f51e5",
   "metadata": {},
   "outputs": [
    {
     "name": "stdout",
     "output_type": "stream",
     "text": [
      "python \n",
      " python\n",
      "python\n"
     ]
    }
   ],
   "source": [
    "favourite_language = ' python '\n",
    "print(favourite_language.lstrip())\n",
    "print(favourite_language.rstrip())\n",
    "print(favourite_language.strip())"
   ]
  },
  {
   "cell_type": "code",
   "execution_count": 13,
   "id": "2e7b2c68-28a6-4d1a-b3dd-a8f888e6ec78",
   "metadata": {},
   "outputs": [
    {
     "data": {
      "text/plain": [
       "' python '"
      ]
     },
     "execution_count": 13,
     "metadata": {},
     "output_type": "execute_result"
    }
   ],
   "source": [
    "favourite_language"
   ]
  },
  {
   "cell_type": "code",
   "execution_count": 14,
   "id": "87c8308f-ef5c-43de-9d5a-034563b97bd9",
   "metadata": {},
   "outputs": [
    {
     "name": "stdout",
     "output_type": "stream",
     "text": [
      "One of the python's strengths is its diverse community\n"
     ]
    }
   ],
   "source": [
    "message = \"One of the python's strengths is its diverse community\"\n",
    "print(message)"
   ]
  },
  {
   "cell_type": "code",
   "execution_count": 15,
   "id": "ac860224-b4e3-4666-96cd-c0d6af95db06",
   "metadata": {},
   "outputs": [
    {
     "ename": "SyntaxError",
     "evalue": "unterminated string literal (detected at line 1) (1148589048.py, line 1)",
     "output_type": "error",
     "traceback": [
      "  \u001b[36mCell\u001b[39m\u001b[36m \u001b[39m\u001b[32mIn[15]\u001b[39m\u001b[32m, line 1\u001b[39m\n\u001b[31m    \u001b[39m\u001b[31mmessage = 'One of the python's strengths is its diverse community'\u001b[39m\n                                                                     ^\n\u001b[31mSyntaxError\u001b[39m\u001b[31m:\u001b[39m unterminated string literal (detected at line 1)\n"
     ]
    }
   ],
   "source": [
    "message = 'One of the python's strengths is its diverse community'\n",
    "print(message)"
   ]
  },
  {
   "cell_type": "code",
   "execution_count": 16,
   "id": "cca31c98-453f-444b-b357-6e0dd0078826",
   "metadata": {},
   "outputs": [
    {
     "ename": "TypeError",
     "evalue": "can only concatenate str (not \"int\") to str",
     "output_type": "error",
     "traceback": [
      "\u001b[31m---------------------------------------------------------------------------\u001b[39m",
      "\u001b[31mTypeError\u001b[39m                                 Traceback (most recent call last)",
      "\u001b[36mCell\u001b[39m\u001b[36m \u001b[39m\u001b[32mIn[16]\u001b[39m\u001b[32m, line 2\u001b[39m\n\u001b[32m      1\u001b[39m age = \u001b[32m23\u001b[39m\n\u001b[32m----> \u001b[39m\u001b[32m2\u001b[39m \u001b[38;5;28mprint\u001b[39m(\u001b[33;43m\"\u001b[39;49m\u001b[33;43mHappy\u001b[39;49m\u001b[33;43m\"\u001b[39;49m\u001b[43m \u001b[49m\u001b[43m+\u001b[49m\u001b[43m \u001b[49m\u001b[43mage\u001b[49m + \u001b[33m\"\u001b[39m\u001b[33m rd Birthday!\u001b[39m\u001b[33m\"\u001b[39m)\n",
      "\u001b[31mTypeError\u001b[39m: can only concatenate str (not \"int\") to str"
     ]
    }
   ],
   "source": [
    "age = 23\n",
    "print(\"Happy\" + age + \" rd Birthday!\")"
   ]
  },
  {
   "cell_type": "code",
   "execution_count": 18,
   "id": "3a293f16-41f0-4161-a2e3-548874637abe",
   "metadata": {},
   "outputs": [
    {
     "name": "stdout",
     "output_type": "stream",
     "text": [
      "Happy 23rd Birthday!\n"
     ]
    }
   ],
   "source": [
    "print(\"Happy \" + str(age) + \"rd Birthday!\")"
   ]
  },
  {
   "cell_type": "code",
   "execution_count": 19,
   "id": "b274e387-2702-4cff-9ec6-b42356c094b9",
   "metadata": {},
   "outputs": [
    {
     "data": {
      "text/plain": [
       "1.5"
      ]
     },
     "execution_count": 19,
     "metadata": {},
     "output_type": "execute_result"
    }
   ],
   "source": [
    "3/2"
   ]
  },
  {
   "cell_type": "code",
   "execution_count": 20,
   "id": "4c66aaaf-258e-4c93-8164-86fffa0fd662",
   "metadata": {},
   "outputs": [
    {
     "data": {
      "text/plain": [
       "1.5"
      ]
     },
     "execution_count": 20,
     "metadata": {},
     "output_type": "execute_result"
    }
   ],
   "source": [
    "3.0/2"
   ]
  },
  {
   "cell_type": "code",
   "execution_count": 21,
   "id": "4bd8645f-3230-4d7c-98f5-59158fedb596",
   "metadata": {},
   "outputs": [
    {
     "data": {
      "text/plain": [
       "1.5"
      ]
     },
     "execution_count": 21,
     "metadata": {},
     "output_type": "execute_result"
    }
   ],
   "source": [
    "3/2.0"
   ]
  },
  {
   "cell_type": "code",
   "execution_count": 22,
   "id": "b03beb89-8e6f-44ae-9b32-2a0aa9c197cb",
   "metadata": {},
   "outputs": [
    {
     "data": {
      "text/plain": [
       "1.5"
      ]
     },
     "execution_count": 22,
     "metadata": {},
     "output_type": "execute_result"
    }
   ],
   "source": [
    "3.0/2.0"
   ]
  },
  {
   "cell_type": "code",
   "execution_count": 23,
   "id": "a3a05512-e72c-4c32-994f-e1f75078fafa",
   "metadata": {},
   "outputs": [
    {
     "name": "stdout",
     "output_type": "stream",
     "text": [
      "Hello Python People\n"
     ]
    }
   ],
   "source": [
    "# Say hello to everyone\n",
    "print(\"Hello Python People\")"
   ]
  },
  {
   "cell_type": "code",
   "execution_count": 24,
   "id": "b49ad4ce-fde2-467e-8c38-e535f33b28f4",
   "metadata": {},
   "outputs": [
    {
     "name": "stdout",
     "output_type": "stream",
     "text": [
      "The Zen of Python, by Tim Peters\n",
      "\n",
      "Beautiful is better than ugly.\n",
      "Explicit is better than implicit.\n",
      "Simple is better than complex.\n",
      "Complex is better than complicated.\n",
      "Flat is better than nested.\n",
      "Sparse is better than dense.\n",
      "Readability counts.\n",
      "Special cases aren't special enough to break the rules.\n",
      "Although practicality beats purity.\n",
      "Errors should never pass silently.\n",
      "Unless explicitly silenced.\n",
      "In the face of ambiguity, refuse the temptation to guess.\n",
      "There should be one-- and preferably only one --obvious way to do it.\n",
      "Although that way may not be obvious at first unless you're Dutch.\n",
      "Now is better than never.\n",
      "Although never is often better than *right* now.\n",
      "If the implementation is hard to explain, it's a bad idea.\n",
      "If the implementation is easy to explain, it may be a good idea.\n",
      "Namespaces are one honking great idea -- let's do more of those!\n"
     ]
    }
   ],
   "source": [
    "import this"
   ]
  },
  {
   "cell_type": "code",
   "execution_count": null,
   "id": "9090c7e3-c94f-475f-8903-e1cf092e3d97",
   "metadata": {},
   "outputs": [],
   "source": []
  }
 ],
 "metadata": {
  "kernelspec": {
   "display_name": "Python 3 (ipykernel)",
   "language": "python",
   "name": "python3"
  },
  "language_info": {
   "codemirror_mode": {
    "name": "ipython",
    "version": 3
   },
   "file_extension": ".py",
   "mimetype": "text/x-python",
   "name": "python",
   "nbconvert_exporter": "python",
   "pygments_lexer": "ipython3",
   "version": "3.11.11"
  }
 },
 "nbformat": 4,
 "nbformat_minor": 5
}
