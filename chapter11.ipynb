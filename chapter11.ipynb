{
 "cells": [
  {
   "cell_type": "code",
   "execution_count": 1,
   "id": "05a2a752-97b0-4f35-9a27-59c1d8d43c34",
   "metadata": {},
   "outputs": [
    {
     "name": "stdout",
     "output_type": "stream",
     "text": [
      "Enter 'q' at any time to quit.\n"
     ]
    },
    {
     "name": "stdin",
     "output_type": "stream",
     "text": [
      "\n",
      "Please give me a first name: micle\n",
      "\n",
      "Please give me a last name: jonson\n"
     ]
    },
    {
     "name": "stdout",
     "output_type": "stream",
     "text": [
      "\n",
      "Neatly formatted name: Micle Jonson.\n"
     ]
    },
    {
     "name": "stdin",
     "output_type": "stream",
     "text": [
      "\n",
      "Please give me a first name: q\n"
     ]
    }
   ],
   "source": [
    "def get_formatted_name(first, last):\n",
    "    \"\"\"Generate a neatly formatted full name.\"\"\"\n",
    "    full_name = first + ' ' + last\n",
    "    return full_name.title()\n",
    "\n",
    "print(\"Enter 'q' at any time to quit.\")\n",
    "while True:\n",
    "    first = input(\"\\nPlease give me a first name:\")\n",
    "    if 'q' == first:\n",
    "        break\n",
    "    last = input(\"\\nPlease give me a last name:\")\n",
    "    if 'q' == last:\n",
    "        break\n",
    "    formatted_name = get_formatted_name(first, last)\n",
    "    print(\"\\nNeatly formatted name: \" + formatted_name + \".\")"
   ]
  },
  {
   "cell_type": "code",
   "execution_count": 1,
   "id": "bd074e78-38b3-48e2-ba12-5a57e9e8d6e8",
   "metadata": {
    "scrolled": true
   },
   "outputs": [
    {
     "name": "stderr",
     "output_type": "stream",
     "text": [
      "E\n",
      "======================================================================\n",
      "ERROR: D:\\lvjinke\\AppData\\Roaming\\jupyter\\runtime\\kernel-862a6e00-4deb-41ed-8f01-5f99a8f606e9 (unittest.loader._FailedTest.D:\\lvjinke\\AppData\\Roaming\\jupyter\\runtime\\kernel-862a6e00-4deb-41ed-8f01-5f99a8f606e9)\n",
      "----------------------------------------------------------------------\n",
      "AttributeError: module '__main__' has no attribute 'D:\\lvjinke\\AppData\\Roaming\\jupyter\\runtime\\kernel-862a6e00-4deb-41ed-8f01-5f99a8f606e9'\n",
      "\n",
      "----------------------------------------------------------------------\n",
      "Ran 1 test in 0.001s\n",
      "\n",
      "FAILED (errors=1)\n"
     ]
    },
    {
     "ename": "SystemExit",
     "evalue": "True",
     "output_type": "error",
     "traceback": [
      "An exception has occurred, use %tb to see the full traceback.\n",
      "\u001b[31mSystemExit\u001b[39m\u001b[31m:\u001b[39m True\n"
     ]
    },
    {
     "name": "stderr",
     "output_type": "stream",
     "text": [
      "D:\\install\\envs\\pcc\\Lib\\site-packages\\IPython\\core\\interactiveshell.py:3554: UserWarning: To exit: use 'exit', 'quit', or Ctrl-D.\n",
      "  warn(\"To exit: use 'exit', 'quit', or Ctrl-D.\", stacklevel=1)\n"
     ]
    }
   ],
   "source": [
    "import unittest\n",
    "\n",
    "class NamesTestCase(unittest.TestCase):\n",
    "    \"\"\"Test for 'name_function.py'\"\"\"\n",
    "\n",
    "    def test_first_last_name(self):\n",
    "        \"\"\"Do names like 'Janis Joplin' work?'\"\"\"\n",
    "        formatted_name = get_formatted_name('janis', 'joplin')\n",
    "        self.assertEqual(formatted_name, 'Janis Joplin')\n",
    "\n",
    "unittest.main()"
   ]
  },
  {
   "cell_type": "code",
   "execution_count": null,
   "id": "a0b8e4ae-6fe6-48d4-b66e-0b163c6141c7",
   "metadata": {},
   "outputs": [],
   "source": []
  }
 ],
 "metadata": {
  "kernelspec": {
   "display_name": "Python 3 (ipykernel)",
   "language": "python",
   "name": "python3"
  },
  "language_info": {
   "codemirror_mode": {
    "name": "ipython",
    "version": 3
   },
   "file_extension": ".py",
   "mimetype": "text/x-python",
   "name": "python",
   "nbconvert_exporter": "python",
   "pygments_lexer": "ipython3",
   "version": "3.11.11"
  }
 },
 "nbformat": 4,
 "nbformat_minor": 5
}
