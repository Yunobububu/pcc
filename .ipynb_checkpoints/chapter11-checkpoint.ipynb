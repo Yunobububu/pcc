{
 "cells": [
  {
   "cell_type": "code",
   "execution_count": 1,
   "id": "05a2a752-97b0-4f35-9a27-59c1d8d43c34",
   "metadata": {},
   "outputs": [
    {
     "name": "stdout",
     "output_type": "stream",
     "text": [
      "Enter 'q' at any time to quit.\n"
     ]
    },
    {
     "name": "stdin",
     "output_type": "stream",
     "text": [
      "\n",
      "Please give me a first name: micle\n",
      "\n",
      "Please give me a last name: jonson\n"
     ]
    },
    {
     "name": "stdout",
     "output_type": "stream",
     "text": [
      "\n",
      "Neatly formatted name: Micle Jonson.\n"
     ]
    },
    {
     "name": "stdin",
     "output_type": "stream",
     "text": [
      "\n",
      "Please give me a first name: q\n"
     ]
    }
   ],
   "source": [
    "def get_formatted_name(first, last):\n",
    "    \"\"\"Generate a neatly formatted full name.\"\"\"\n",
    "    full_name = first + ' ' + last\n",
    "    return full_name.title()\n",
    "\n",
    "print(\"Enter 'q' at any time to quit.\")\n",
    "while True:\n",
    "    first = input(\"\\nPlease give me a first name:\")\n",
    "    if 'q' == first:\n",
    "        break\n",
    "    last = input(\"\\nPlease give me a last name:\")\n",
    "    if 'q' == last:\n",
    "        break\n",
    "    formatted_name = get_formatted_name(first, last)\n",
    "    print(\"\\nNeatly formatted name: \" + formatted_name + \".\")"
   ]
  },
  {
   "cell_type": "code",
   "execution_count": 2,
   "id": "bd074e78-38b3-48e2-ba12-5a57e9e8d6e8",
   "metadata": {},
   "outputs": [
    {
     "ename": "ModuleNotFoundError",
     "evalue": "No module named 'unitest'",
     "output_type": "error",
     "traceback": [
      "\u001b[31m---------------------------------------------------------------------------\u001b[39m",
      "\u001b[31mModuleNotFoundError\u001b[39m                       Traceback (most recent call last)",
      "\u001b[36mCell\u001b[39m\u001b[36m \u001b[39m\u001b[32mIn[2]\u001b[39m\u001b[32m, line 1\u001b[39m\n\u001b[32m----> \u001b[39m\u001b[32m1\u001b[39m \u001b[38;5;28;01mimport\u001b[39;00m\u001b[38;5;250m \u001b[39m\u001b[34;01munitest\u001b[39;00m\n\u001b[32m      3\u001b[39m \u001b[38;5;28;01mclass\u001b[39;00m\u001b[38;5;250m \u001b[39m\u001b[34;01mNamesTestCase\u001b[39;00m(unittest.TestCase):\n\u001b[32m      4\u001b[39m \u001b[38;5;250m    \u001b[39m\u001b[33;03m\"\"\"Test for 'name_function.py'\"\"\"\u001b[39;00m\n",
      "\u001b[31mModuleNotFoundError\u001b[39m: No module named 'unitest'"
     ]
    }
   ],
   "source": [
    "import unittest\n",
    "\n",
    "class NamesTestCase(unittest.TestCase):\n",
    "    \"\"\"Test for 'name_function.py'\"\"\"\n",
    "\n",
    "    def test_first_last_name(self):\n",
    "        \"\"\"Do names like 'Janis Joplin' work?'\"\"\"\n",
    "        formatted_name = get_formatted_name('janis', 'joplin')\n",
    "        self.assertEqual(formatted_name, 'Janis Joplin')\n",
    "\n",
    "unittest.main()"
   ]
  }
 ],
 "metadata": {
  "kernelspec": {
   "display_name": "Python 3 (ipykernel)",
   "language": "python",
   "name": "python3"
  },
  "language_info": {
   "codemirror_mode": {
    "name": "ipython",
    "version": 3
   },
   "file_extension": ".py",
   "mimetype": "text/x-python",
   "name": "python",
   "nbconvert_exporter": "python",
   "pygments_lexer": "ipython3",
   "version": "3.11.11"
  }
 },
 "nbformat": 4,
 "nbformat_minor": 5
}
