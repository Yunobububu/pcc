{
 "cells": [
  {
   "cell_type": "code",
   "execution_count": 1,
   "id": "344d8f22-5ed8-452a-82d0-9a1fdecf0d0d",
   "metadata": {},
   "outputs": [
    {
     "data": {
      "text/plain": [
       "['trek', 'cnnoadale', 'redline', 'specialized']"
      ]
     },
     "execution_count": 1,
     "metadata": {},
     "output_type": "execute_result"
    }
   ],
   "source": [
    "# list\n",
    "\n",
    "bicycles = ['trek','cnnoadale','redline','specialized']\n",
    "bicycles"
   ]
  },
  {
   "cell_type": "code",
   "execution_count": 5,
   "id": "517c3e29-a00c-46d8-b295-2ae29cc70c47",
   "metadata": {},
   "outputs": [
    {
     "name": "stdout",
     "output_type": "stream",
     "text": [
      "trek\n"
     ]
    }
   ],
   "source": [
    "print(bicycles[0])"
   ]
  },
  {
   "cell_type": "code",
   "execution_count": 6,
   "id": "f8089154-3d46-44d6-99c5-1599d47d91da",
   "metadata": {},
   "outputs": [
    {
     "name": "stdout",
     "output_type": "stream",
     "text": [
      "Trek\n"
     ]
    }
   ],
   "source": [
    "print(bicycles[0].title())"
   ]
  },
  {
   "cell_type": "code",
   "execution_count": 8,
   "id": "358506c1-77c8-4670-9ea6-c8664dc1942e",
   "metadata": {},
   "outputs": [
    {
     "name": "stdout",
     "output_type": "stream",
     "text": [
      "specialized\n"
     ]
    }
   ],
   "source": [
    "print(bicycles[-1])"
   ]
  },
  {
   "cell_type": "code",
   "execution_count": 9,
   "id": "a60a1b81-b3de-4859-9dec-89e48bab479d",
   "metadata": {},
   "outputs": [
    {
     "name": "stdout",
     "output_type": "stream",
     "text": [
      "['honda', 'suzuki', 'yamaha']\n"
     ]
    }
   ],
   "source": [
    "motorcycles = ['honda','suzuki','yamaha']\n",
    "print(motorcycles)"
   ]
  },
  {
   "cell_type": "code",
   "execution_count": 10,
   "id": "ed126117-13d1-41c3-be59-994663ff620e",
   "metadata": {},
   "outputs": [
    {
     "name": "stdout",
     "output_type": "stream",
     "text": [
      "['ducati', 'suzuki', 'yamaha']\n"
     ]
    }
   ],
   "source": [
    "motorcycles[0] = 'ducati'\n",
    "print(motorcycles)"
   ]
  },
  {
   "cell_type": "code",
   "execution_count": 11,
   "id": "776c16ca-2b86-4aa1-a8df-cfcb7d7093de",
   "metadata": {},
   "outputs": [],
   "source": [
    "motorcycles.append('honda')"
   ]
  },
  {
   "cell_type": "code",
   "execution_count": 12,
   "id": "6b2719dd-5c6a-4cce-8a01-f208961f630c",
   "metadata": {},
   "outputs": [
    {
     "name": "stdout",
     "output_type": "stream",
     "text": [
      "['ducati', 'suzuki', 'yamaha', 'honda']\n"
     ]
    }
   ],
   "source": [
    "print(motorcycles)"
   ]
  },
  {
   "cell_type": "code",
   "execution_count": 13,
   "id": "75fdedef-fb1a-469d-b4ba-894de4ec7e6c",
   "metadata": {},
   "outputs": [],
   "source": [
    "motorcycles.insert(0,'benzi')"
   ]
  },
  {
   "cell_type": "code",
   "execution_count": 14,
   "id": "978b6e1f-5bd8-40a2-8348-76dda96c3b13",
   "metadata": {},
   "outputs": [
    {
     "name": "stdout",
     "output_type": "stream",
     "text": [
      "['benzi', 'ducati', 'suzuki', 'yamaha', 'honda']\n"
     ]
    }
   ],
   "source": [
    "print(motorcycles)"
   ]
  },
  {
   "cell_type": "code",
   "execution_count": 15,
   "id": "94b08bd2-3b04-4e98-9b20-5061acc43814",
   "metadata": {},
   "outputs": [
    {
     "name": "stdout",
     "output_type": "stream",
     "text": [
      "['benzi', 'audi', 'ducati', 'suzuki', 'yamaha', 'honda']\n"
     ]
    }
   ],
   "source": [
    "motorcycles.insert(1,'audi')\n",
    "print(motorcycles)"
   ]
  },
  {
   "cell_type": "code",
   "execution_count": 16,
   "id": "08cea3e1-dc33-4986-9d9a-fd5426cddba1",
   "metadata": {},
   "outputs": [
    {
     "name": "stdout",
     "output_type": "stream",
     "text": [
      "['audi', 'ducati', 'suzuki', 'yamaha', 'honda']\n"
     ]
    }
   ],
   "source": [
    "del motorcycles[0]\n",
    "print(motorcycles)"
   ]
  },
  {
   "cell_type": "code",
   "execution_count": 17,
   "id": "c063a1bc-53f3-4849-aa8c-63b22867849f",
   "metadata": {},
   "outputs": [
    {
     "name": "stdout",
     "output_type": "stream",
     "text": [
      "['audi', 'suzuki', 'yamaha', 'honda']\n"
     ]
    }
   ],
   "source": [
    "del motorcycles[1]\n",
    "print(motorcycles)"
   ]
  },
  {
   "cell_type": "code",
   "execution_count": 18,
   "id": "282c54c9-0136-4af6-b421-b8ce8faece21",
   "metadata": {},
   "outputs": [
    {
     "name": "stdout",
     "output_type": "stream",
     "text": [
      "honda\n",
      "['audi', 'suzuki', 'yamaha']\n"
     ]
    }
   ],
   "source": [
    "popped_motorcycle = motorcycles.pop()\n",
    "print(popped_motorcycle)\n",
    "print(motorcycles)"
   ]
  },
  {
   "cell_type": "code",
   "execution_count": 19,
   "id": "977c5b2c-7a90-4c27-9431-5f5428800c82",
   "metadata": {},
   "outputs": [
    {
     "name": "stdout",
     "output_type": "stream",
     "text": [
      "The first owner of the motorcycle is: audi\n"
     ]
    }
   ],
   "source": [
    "print(\"The first owner of the motorcycle is: \" + motorcycles.pop(0))"
   ]
  },
  {
   "cell_type": "code",
   "execution_count": null,
   "id": "f70eb9ea-8794-485b-99ac-cf446758ace9",
   "metadata": {},
   "outputs": [],
   "source": []
  }
 ],
 "metadata": {
  "kernelspec": {
   "display_name": "Python 3 (ipykernel)",
   "language": "python",
   "name": "python3"
  },
  "language_info": {
   "codemirror_mode": {
    "name": "ipython",
    "version": 3
   },
   "file_extension": ".py",
   "mimetype": "text/x-python",
   "name": "python",
   "nbconvert_exporter": "python",
   "pygments_lexer": "ipython3",
   "version": "3.11.11"
  }
 },
 "nbformat": 4,
 "nbformat_minor": 5
}
