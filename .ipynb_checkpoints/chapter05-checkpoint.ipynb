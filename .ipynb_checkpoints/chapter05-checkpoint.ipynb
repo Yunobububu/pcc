{
 "cells": [
  {
   "cell_type": "code",
   "execution_count": 3,
   "id": "92bee94a-d9b6-401a-8aaf-6ae9f1156026",
   "metadata": {},
   "outputs": [
    {
     "name": "stdout",
     "output_type": "stream",
     "text": [
      "Audi\n",
      "BWM\n",
      "Benzi\n",
      "BYD\n"
     ]
    }
   ],
   "source": [
    "cars = ['audi','bwm','benzi','byd']\n",
    "for car in cars:\n",
    "    if(car == 'bwm' or car == 'byd'):\n",
    "        print(car.upper())\n",
    "    else:\n",
    "        print(car.title())"
   ]
  },
  {
   "cell_type": "code",
   "execution_count": 4,
   "id": "f6c7a8cd-e837-4c95-8677-67fc93ee285b",
   "metadata": {},
   "outputs": [
    {
     "name": "stdout",
     "output_type": "stream",
     "text": [
      "Hello the anchovies!\n"
     ]
    }
   ],
   "source": [
    "requested_topping = 'mushroom'\n",
    "if(requested_topping != 'anchovies'):\n",
    "    print(\"Hello the anchovies!\")"
   ]
  },
  {
   "cell_type": "code",
   "execution_count": 5,
   "id": "ce2b455b-1b02-4af8-8936-825d9a93c2de",
   "metadata": {},
   "outputs": [
    {
     "data": {
      "text/plain": [
       "True"
      ]
     },
     "execution_count": 5,
     "metadata": {},
     "output_type": "execute_result"
    }
   ],
   "source": [
    "age = 18\n",
    "age == 18"
   ]
  },
  {
   "cell_type": "code",
   "execution_count": 6,
   "id": "dcc9f7ae-53f0-42c4-a583-cede23c46f87",
   "metadata": {},
   "outputs": [
    {
     "name": "stdout",
     "output_type": "stream",
     "text": [
      "That's not the correct answer!\n"
     ]
    }
   ],
   "source": [
    "answer = 17\n",
    "if(41 != answer):\n",
    "    print(\"That's not the correct answer! try again.\")"
   ]
  },
  {
   "cell_type": "code",
   "execution_count": 7,
   "id": "88ecd93e-c930-43d5-a5f3-e71c33eeb6e9",
   "metadata": {},
   "outputs": [
    {
     "data": {
      "text/plain": [
       "False"
      ]
     },
     "execution_count": 7,
     "metadata": {},
     "output_type": "execute_result"
    }
   ],
   "source": [
    "age_0 = 22\n",
    "age_1 = 18\n",
    "age_0 >= 12 and age_1 < 5"
   ]
  },
  {
   "cell_type": "code",
   "execution_count": 8,
   "id": "5d1efb96-f1d5-4aef-956f-3b5c6d3cad56",
   "metadata": {},
   "outputs": [
    {
     "data": {
      "text/plain": [
       "()"
      ]
     },
     "execution_count": 8,
     "metadata": {},
     "output_type": "execute_result"
    }
   ],
   "source": [
    "() and ()"
   ]
  },
  {
   "cell_type": "code",
   "execution_count": 9,
   "id": "fc56343a-07cf-4a92-b614-b5922ee425d2",
   "metadata": {},
   "outputs": [
    {
     "data": {
      "text/plain": [
       "False"
      ]
     },
     "execution_count": 9,
     "metadata": {},
     "output_type": "execute_result"
    }
   ],
   "source": [
    "(age_0 > 12) and (age_1 < 8)"
   ]
  },
  {
   "cell_type": "code",
   "execution_count": 10,
   "id": "9192b63b-3a11-48bc-b57b-e09293287152",
   "metadata": {},
   "outputs": [
    {
     "data": {
      "text/plain": [
       "True"
      ]
     },
     "execution_count": 10,
     "metadata": {},
     "output_type": "execute_result"
    }
   ],
   "source": [
    "(age_0 > 12) or (age_1 < 8)"
   ]
  },
  {
   "cell_type": "code",
   "execution_count": 12,
   "id": "5c29bd68-3113-4ee3-91c1-aec6bd7c98f5",
   "metadata": {},
   "outputs": [
    {
     "data": {
      "text/plain": [
       "True"
      ]
     },
     "execution_count": 12,
     "metadata": {},
     "output_type": "execute_result"
    }
   ],
   "source": [
    "request_toppings = ['mushroom','pipeappe','onions']\n",
    "'mushroom' in request_toppings"
   ]
  },
  {
   "cell_type": "code",
   "execution_count": 13,
   "id": "57476768-f01a-4549-b68f-815fa7b5febf",
   "metadata": {},
   "outputs": [
    {
     "name": "stdout",
     "output_type": "stream",
     "text": [
      "Marrie, you can post a response if u wish.\n"
     ]
    }
   ],
   "source": [
    "bann_users = ['alice','bob','harry','chris']\n",
    "user = 'marrie'\n",
    "if user not in bann_users:\n",
    "    print(user.title() + ', you can post a response if u wish.')"
   ]
  },
  {
   "cell_type": "code",
   "execution_count": 14,
   "id": "ed7c4851-d1e8-4f1e-a766-efbdecee63d3",
   "metadata": {},
   "outputs": [],
   "source": [
    "game_active = True\n",
    "can_credit = False\n"
   ]
  },
  {
   "cell_type": "code",
   "execution_count": 16,
   "id": "a48e87a0-4f11-4562-8cf9-9d1d6ecf8f95",
   "metadata": {},
   "outputs": [
    {
     "name": "stdout",
     "output_type": "stream",
     "text": [
      "Is car == 'subaru',I predit True\n",
      "True\n",
      "Is car == 'audi', I predit False\n",
      "False\n"
     ]
    }
   ],
   "source": [
    "car = 'subaru'\n",
    "print(\"Is car == 'subaru',I predit True\")\n",
    "print(car == 'subaru')\n",
    "print(\"Is car == 'audi', I predit False\")\n",
    "print(car == 'audi')"
   ]
  },
  {
   "cell_type": "code",
   "execution_count": 21,
   "id": "656a9fd8-21d7-4d17-a396-944415e9c91a",
   "metadata": {},
   "outputs": [
    {
     "name": "stdout",
     "output_type": "stream",
     "text": [
      "You are old enough to vote!\n",
      "Have u registed to vote yet?\n"
     ]
    }
   ],
   "source": [
    "age = 20\n",
    "if(age > 19):\n",
    "    print(\"You are old enough to vote!\")\n",
    "    print(\"Have u registed to vote yet?\")"
   ]
  },
  {
   "cell_type": "code",
   "execution_count": 24,
   "id": "4373b9f0-51fb-42e8-86a9-3d310c70af34",
   "metadata": {},
   "outputs": [
    {
     "name": "stdout",
     "output_type": "stream",
     "text": [
      "Sorry,u are too young to vote.\n",
      "u can vote as soon as u turn 18.\n"
     ]
    }
   ],
   "source": [
    "age = 7\n",
    "if(age >= 18):\n",
    "    print(\"You are old enough to vote!\")\n",
    "    print(\"Have u registed to vote yet?\")\n",
    "else:\n",
    "    print(\"Sorry,u are too young to vote.\")\n",
    "    print(\"u can vote as soon as u turn 18.\")"
   ]
  },
  {
   "cell_type": "code",
   "execution_count": null,
   "id": "8b3acae9-5ef3-4590-b080-2df2e505f28c",
   "metadata": {},
   "outputs": [],
   "source": []
  }
 ],
 "metadata": {
  "kernelspec": {
   "display_name": "Python 3 (ipykernel)",
   "language": "python",
   "name": "python3"
  },
  "language_info": {
   "codemirror_mode": {
    "name": "ipython",
    "version": 3
   },
   "file_extension": ".py",
   "mimetype": "text/x-python",
   "name": "python",
   "nbconvert_exporter": "python",
   "pygments_lexer": "ipython3",
   "version": "3.11.11"
  }
 },
 "nbformat": 4,
 "nbformat_minor": 5
}
