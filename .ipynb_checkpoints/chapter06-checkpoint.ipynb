{
 "cells": [
  {
   "cell_type": "code",
   "execution_count": 2,
   "id": "57987fb4-8fab-4bad-a1f6-6bb698db54df",
   "metadata": {},
   "outputs": [
    {
     "name": "stdout",
     "output_type": "stream",
     "text": [
      "green\n",
      "5\n"
     ]
    }
   ],
   "source": [
    "# dictionaries\n",
    "alien_0 = {'color':'green','points':5}\n",
    "\n",
    "print(alien_0['color'])\n",
    "print(alien_0['points'])"
   ]
  },
  {
   "cell_type": "code",
   "execution_count": 3,
   "id": "e462d024-6de2-4658-8588-9ac8d88032eb",
   "metadata": {},
   "outputs": [
    {
     "name": "stdout",
     "output_type": "stream",
     "text": [
      "You just earned 5 points!\n"
     ]
    }
   ],
   "source": [
    "new_points = alien_0['points']\n",
    "print(\"You just earned \" + str(new_points) + \" points!\")"
   ]
  },
  {
   "cell_type": "code",
   "execution_count": 4,
   "id": "c895f554-5da8-4e74-95c6-0a2d8510790d",
   "metadata": {},
   "outputs": [
    {
     "name": "stdout",
     "output_type": "stream",
     "text": [
      "{'color': 'green', 'points': 5}\n",
      "{'color': 'green', 'points': 5, 'x_position': 0, 'y_postition': 25}\n"
     ]
    }
   ],
   "source": [
    "print(alien_0)\n",
    "alien_0['x_position'] = 0\n",
    "alien_0['y_postition'] = 25\n",
    "print(alien_0)"
   ]
  },
  {
   "cell_type": "code",
   "execution_count": 5,
   "id": "e0c1aff2-a784-495b-aee5-003063f116a8",
   "metadata": {},
   "outputs": [
    {
     "name": "stdout",
     "output_type": "stream",
     "text": [
      "{'color': 'green', 'points': 5}\n"
     ]
    }
   ],
   "source": [
    "alien_1 = {}\n",
    "alien_1['color']  = 'green'\n",
    "alien_1['points'] = 5\n",
    "print(alien_1)"
   ]
  },
  {
   "cell_type": "code",
   "execution_count": 6,
   "id": "967d078e-a2a7-4565-bffd-a53c448dbd1f",
   "metadata": {},
   "outputs": [
    {
     "name": "stdout",
     "output_type": "stream",
     "text": [
      "The alien_1 is now  yellow\n"
     ]
    }
   ],
   "source": [
    "alien_1['color'] = 'yellow'\n",
    "print(\"The alien_1 is now \",alien_1['color'])"
   ]
  },
  {
   "cell_type": "code",
   "execution_count": 7,
   "id": "bc1adcb7-f2ee-4f8a-bf3e-a885e99cb067",
   "metadata": {},
   "outputs": [
    {
     "name": "stdout",
     "output_type": "stream",
     "text": [
      "Original x-position: 0\n"
     ]
    }
   ],
   "source": [
    "alien_0 = {'x_position': 0,'y_position': 25,'speed':'medium'}\n",
    "print(\"Original x-position: \" +  str(alien_0['x_position']))"
   ]
  },
  {
   "cell_type": "code",
   "execution_count": 9,
   "id": "01b9b6cc-c3c8-4d67-a9db-1dfb439466e4",
   "metadata": {},
   "outputs": [
    {
     "name": "stdout",
     "output_type": "stream",
     "text": [
      "New x-position: 2\n"
     ]
    }
   ],
   "source": [
    "# Move the alien to the right\n",
    "# Determine how far to move the alien based on its current speed.\n",
    "if alien_0['speed'] == 'slow':\n",
    "    x_increment = 1\n",
    "elif alien_0['speed'] == 'medium':\n",
    "    x_increment = 2\n",
    "else:\n",
    "    # This must be a fast alien.\n",
    "    x_increment = 3\n",
    "alien_0['x_position'] += x_increment\n",
    "\n",
    "print(\"New x-position: \" + str(alien_0['x_position']))"
   ]
  },
  {
   "cell_type": "code",
   "execution_count": 10,
   "id": "1c0d609e-9e45-4f78-a52c-0cf2b6d73770",
   "metadata": {},
   "outputs": [
    {
     "name": "stdout",
     "output_type": "stream",
     "text": [
      "{'color': 'green', 'points': 5}\n",
      "{'color': 'green'}\n"
     ]
    }
   ],
   "source": [
    "alien_0 = {'color': 'green','points': 5}\n",
    "print(alien_0)\n",
    "\n",
    "del alien_0['points']\n",
    "print(alien_0)"
   ]
  },
  {
   "cell_type": "code",
   "execution_count": 11,
   "id": "977c510c-8b88-4392-9923-8d272f64b6b0",
   "metadata": {},
   "outputs": [
    {
     "name": "stdout",
     "output_type": "stream",
     "text": [
      "Sarah's favourite language is C.\n"
     ]
    }
   ],
   "source": [
    "favourite_languages = {\n",
    "    \"jen\": \"python\",\n",
    "    \"sarah\": \"c\",\n",
    "    \"edward\": \"ruby\",\n",
    "    \"phil\":\"java\",\n",
    "}\n",
    "print(\"Sarah's favourite language is \" + \n",
    "    favourite_languages['sarah'].title() \n",
    "    + \".\")\n"
   ]
  },
  {
   "cell_type": "code",
   "execution_count": 13,
   "id": "36075b63-d93d-4e06-a966-9af46ee3d096",
   "metadata": {},
   "outputs": [
    {
     "name": "stdout",
     "output_type": "stream",
     "text": [
      "\n",
      "Key: username\n",
      "Value: efermi\n",
      "\n",
      "Key: first\n",
      "Value: enrico\n",
      "\n",
      "Key: last\n",
      "Value: fermi\n"
     ]
    }
   ],
   "source": [
    "user_0 = {\n",
    "    'username': 'efermi',\n",
    "    'first': 'enrico',\n",
    "    'last': 'fermi',\n",
    "}\n",
    "\n",
    "for key, value in user_0.items():\n",
    "    print(\"\\nKey: \" + key)\n",
    "    print(\"Value: \" + value)"
   ]
  },
  {
   "cell_type": "code",
   "execution_count": 14,
   "id": "22f60a32-cea1-4cd7-a268-cdb112d24d77",
   "metadata": {},
   "outputs": [
    {
     "name": "stdout",
     "output_type": "stream",
     "text": [
      "Username's favourite language is: Efermi.\n",
      "First's favourite language is: Enrico.\n",
      "Last's favourite language is: Fermi.\n"
     ]
    }
   ],
   "source": [
    "for name, language in user_0.items():\n",
    "    print(name.title() + \"'s favourite language is: \" +\n",
    "          language.title() + \".\")"
   ]
  },
  {
   "cell_type": "code",
   "execution_count": 15,
   "id": "f220efcd-e590-483e-b441-0bb43f24b90d",
   "metadata": {},
   "outputs": [
    {
     "name": "stdout",
     "output_type": "stream",
     "text": [
      "Username\n",
      "First\n",
      "Last\n"
     ]
    }
   ],
   "source": [
    "for name in user_0.keys():\n",
    "    print(name.title())"
   ]
  },
  {
   "cell_type": "code",
   "execution_count": 16,
   "id": "072bdd41-dce8-49ab-9389-eb406d8f6da0",
   "metadata": {},
   "outputs": [
    {
     "name": "stdout",
     "output_type": "stream",
     "text": [
      "Username\n",
      "First\n",
      "Last\n"
     ]
    }
   ],
   "source": [
    "for name in user_0:\n",
    "    print(name.title())"
   ]
  },
  {
   "cell_type": "code",
   "execution_count": 19,
   "id": "638b8826-3f6b-496f-b04d-5a38feda6e83",
   "metadata": {},
   "outputs": [
    {
     "name": "stdout",
     "output_type": "stream",
     "text": [
      "Jen\n",
      "Sarah\n",
      " Hi Sarah I saw your favourite language is c\n",
      "Edward\n",
      "Phil\n",
      " Hi Phil I saw your favourite language is java\n"
     ]
    }
   ],
   "source": [
    "friends = ['phil','sarah']\n",
    "for name in favourite_languages.keys():\n",
    "    print(name.title())\n",
    "    if name in friends:\n",
    "        print(\" Hi \" + name.title() \n",
    "              + \" I saw your favourite language is \" + favourite_languages[name])"
   ]
  },
  {
   "cell_type": "code",
   "execution_count": 20,
   "id": "91278f61-c696-4f95-ae0e-6c58a834ef7e",
   "metadata": {},
   "outputs": [
    {
     "name": "stdout",
     "output_type": "stream",
     "text": [
      "Erin, please take our poll.\n"
     ]
    }
   ],
   "source": [
    "if 'eura' not in favourite_languages.keys():\n",
    "    print(\"Erin, please take our poll.\")"
   ]
  },
  {
   "cell_type": "code",
   "execution_count": 23,
   "id": "ca8a9fad-13cd-45eb-b919-d2a2f7fbdd96",
   "metadata": {},
   "outputs": [
    {
     "name": "stdout",
     "output_type": "stream",
     "text": [
      "Hello Edward please take our poll.\n",
      "Hello Jen please take our poll.\n",
      "Hello Phil please take our poll.\n",
      "Hello Sarah please take our poll.\n"
     ]
    }
   ],
   "source": [
    "for name in sorted(favourite_languages.keys()):\n",
    "    print(\"Hello \" + name.title() + \" please take our poll.\")"
   ]
  },
  {
   "cell_type": "code",
   "execution_count": 26,
   "id": "1b3fd6a3-3192-44a3-907f-66d372a6012f",
   "metadata": {},
   "outputs": [
    {
     "name": "stdout",
     "output_type": "stream",
     "text": [
      "The following languages have been mentioned:\n",
      "Python\n",
      "C\n",
      "Ruby\n",
      "Java\n"
     ]
    }
   ],
   "source": [
    "print(\"The following languages have been mentioned:\")\n",
    "for language in favourite_languages.values():\n",
    "    print(language.title())"
   ]
  },
  {
   "cell_type": "code",
   "execution_count": 32,
   "id": "707c0f2c-de01-403d-864a-4470b3fc174e",
   "metadata": {},
   "outputs": [
    {
     "name": "stdout",
     "output_type": "stream",
     "text": [
      "The following languages have been mentioned:\n",
      "Python\n",
      "Ruby\n",
      "C\n",
      "Java\n"
     ]
    }
   ],
   "source": [
    "print(\"The following languages have been mentioned:\")\n",
    "for language in set(favourite_languages.values()):\n",
    "    print(language.title())"
   ]
  },
  {
   "cell_type": "code",
   "execution_count": null,
   "id": "97b4b069-21eb-4f2a-a4ee-94018f21467e",
   "metadata": {},
   "outputs": [],
   "source": [
    "alien_0 = {'color': 'green', 'points': 5}\n",
    "alien_1 = {'color': 'yellow', 'points': 0}\n",
    "alien_2 = {'color': 'red', 'points': 15}\n",
    "alien_3 = {'color': 'black', 'points': -5}\n",
    "\n",
    "aliens = [alien_0, alien_1, alien_2, alien_3]\n",
    "for alien in aliens:\n",
    "    print(alien)\n"
   ]
  },
  {
   "cell_type": "code",
   "execution_count": null,
   "id": "2ef2e4fe-ba30-4188-9939-842394690033",
   "metadata": {},
   "outputs": [],
   "source": []
  }
 ],
 "metadata": {
  "kernelspec": {
   "display_name": "Python 3 (ipykernel)",
   "language": "python",
   "name": "python3"
  },
  "language_info": {
   "codemirror_mode": {
    "name": "ipython",
    "version": 3
   },
   "file_extension": ".py",
   "mimetype": "text/x-python",
   "name": "python",
   "nbconvert_exporter": "python",
   "pygments_lexer": "ipython3",
   "version": "3.11.11"
  }
 },
 "nbformat": 4,
 "nbformat_minor": 5
}
