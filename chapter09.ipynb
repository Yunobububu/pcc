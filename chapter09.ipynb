{
 "cells": [
  {
   "cell_type": "code",
   "execution_count": 7,
   "id": "33fd270d-1df6-42e9-ba53-1f72b02faf05",
   "metadata": {},
   "outputs": [
    {
     "name": "stdout",
     "output_type": "stream",
     "text": [
      "My dog's name is Aliceand he's 15 years old.\n"
     ]
    }
   ],
   "source": [
    "from dog import Dog\n",
    "from car import Car\n",
    "my_dog =  Dog('alice', '15')\n",
    "print(\"My dog's name is \" + my_dog.name.title() + \n",
    "     \"and he's \" + my_dog.age + \" years old.\")"
   ]
  },
  {
   "cell_type": "code",
   "execution_count": 9,
   "id": "cddeede9-525c-401d-9109-35793aaff229",
   "metadata": {},
   "outputs": [
    {
     "name": "stdout",
     "output_type": "stream",
     "text": [
      "Alice is now sitting\n",
      "Alice rolled over!\n"
     ]
    }
   ],
   "source": [
    "my_dog.sit()\n",
    "my_dog.roll_over()"
   ]
  },
  {
   "cell_type": "code",
   "execution_count": 11,
   "id": "b2317c55-b0c2-4d19-8705-0af728fd714c",
   "metadata": {},
   "outputs": [
    {
     "name": "stdout",
     "output_type": "stream",
     "text": [
      "your_dog's age is: 15\n"
     ]
    }
   ],
   "source": [
    "your_dog = Dog('lucy',15)\n",
    "print(\"your_dog's age is: \" + str(your_dog.age) )"
   ]
  },
  {
   "cell_type": "code",
   "execution_count": 12,
   "id": "1f451f6c-2659-4858-8a5c-ed030d1de550",
   "metadata": {},
   "outputs": [
    {
     "name": "stdout",
     "output_type": "stream",
     "text": [
      "Lucy is now sitting\n"
     ]
    }
   ],
   "source": [
    "your_dog.sit()"
   ]
  },
  {
   "cell_type": "code",
   "execution_count": 6,
   "id": "f49062ca-1a67-4111-af49-d5a904e89170",
   "metadata": {},
   "outputs": [
    {
     "name": "stdout",
     "output_type": "stream",
     "text": [
      "2016 Audi A4\n",
      "This car has 0 miles on it.\n"
     ]
    }
   ],
   "source": [
    "from car import Car\n",
    "my_new_car = Car('audi', 'a4', 2016)\n",
    "print(my_new_car.get_descriptive_name())\n",
    "my_new_car.read_odometer()"
   ]
  },
  {
   "cell_type": "code",
   "execution_count": 7,
   "id": "12e08445-3abf-459f-9463-317309c9beee",
   "metadata": {},
   "outputs": [
    {
     "name": "stdout",
     "output_type": "stream",
     "text": [
      "This car has 23 miles on it.\n"
     ]
    }
   ],
   "source": [
    "my_new_car.odometer_reading = 23\n",
    "my_new_car.read_odometer()"
   ]
  },
  {
   "cell_type": "code",
   "execution_count": 2,
   "id": "d2e97727-fef2-40ad-a6de-eef7e03e8963",
   "metadata": {},
   "outputs": [
    {
     "name": "stdout",
     "output_type": "stream",
     "text": [
      "This car has 15 miles on it.\n"
     ]
    }
   ],
   "source": [
    "from car import Car\n",
    "my_new_car = Car('audi', 'a4', 2016)\n",
    "my_new_car.update_odometer(15)\n",
    "my_new_car.read_odometer()"
   ]
  },
  {
   "cell_type": "code",
   "execution_count": null,
   "id": "73075be3-b334-469d-9c75-fff90cc16fe2",
   "metadata": {},
   "outputs": [],
   "source": []
  }
 ],
 "metadata": {
  "kernelspec": {
   "display_name": "Python 3 (ipykernel)",
   "language": "python",
   "name": "python3"
  },
  "language_info": {
   "codemirror_mode": {
    "name": "ipython",
    "version": 3
   },
   "file_extension": ".py",
   "mimetype": "text/x-python",
   "name": "python",
   "nbconvert_exporter": "python",
   "pygments_lexer": "ipython3",
   "version": "3.11.11"
  }
 },
 "nbformat": 4,
 "nbformat_minor": 5
}
