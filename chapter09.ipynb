{
 "cells": [
  {
   "cell_type": "code",
   "execution_count": 7,
   "id": "33fd270d-1df6-42e9-ba53-1f72b02faf05",
   "metadata": {},
   "outputs": [
    {
     "name": "stdout",
     "output_type": "stream",
     "text": [
      "My dog's name is Aliceand he's 15 years old.\n"
     ]
    }
   ],
   "source": [
    "from dog import Dog\n",
    "from car import Car\n",
    "my_dog =  Dog('alice', '15')\n",
    "print(\"My dog's name is \" + my_dog.name.title() + \n",
    "     \"and he's \" + my_dog.age + \" years old.\")"
   ]
  },
  {
   "cell_type": "code",
   "execution_count": 9,
   "id": "cddeede9-525c-401d-9109-35793aaff229",
   "metadata": {},
   "outputs": [
    {
     "name": "stdout",
     "output_type": "stream",
     "text": [
      "Alice is now sitting\n",
      "Alice rolled over!\n"
     ]
    }
   ],
   "source": [
    "my_dog.sit()\n",
    "my_dog.roll_over()"
   ]
  },
  {
   "cell_type": "code",
   "execution_count": 11,
   "id": "b2317c55-b0c2-4d19-8705-0af728fd714c",
   "metadata": {},
   "outputs": [
    {
     "name": "stdout",
     "output_type": "stream",
     "text": [
      "your_dog's age is: 15\n"
     ]
    }
   ],
   "source": [
    "your_dog = Dog('lucy',15)\n",
    "print(\"your_dog's age is: \" + str(your_dog.age) )"
   ]
  },
  {
   "cell_type": "code",
   "execution_count": 12,
   "id": "1f451f6c-2659-4858-8a5c-ed030d1de550",
   "metadata": {},
   "outputs": [
    {
     "name": "stdout",
     "output_type": "stream",
     "text": [
      "Lucy is now sitting\n"
     ]
    }
   ],
   "source": [
    "your_dog.sit()"
   ]
  },
  {
   "cell_type": "code",
   "execution_count": 6,
   "id": "f49062ca-1a67-4111-af49-d5a904e89170",
   "metadata": {},
   "outputs": [
    {
     "name": "stdout",
     "output_type": "stream",
     "text": [
      "2016 Audi A4\n",
      "This car has 0 miles on it.\n"
     ]
    }
   ],
   "source": [
    "from car import Car\n",
    "my_new_car = Car('audi', 'a4', 2016)\n",
    "print(my_new_car.get_descriptive_name())\n",
    "my_new_car.read_odometer()"
   ]
  },
  {
   "cell_type": "code",
   "execution_count": 7,
   "id": "12e08445-3abf-459f-9463-317309c9beee",
   "metadata": {},
   "outputs": [
    {
     "name": "stdout",
     "output_type": "stream",
     "text": [
      "This car has 23 miles on it.\n"
     ]
    }
   ],
   "source": [
    "my_new_car.odometer_reading = 23\n",
    "my_new_car.read_odometer()"
   ]
  },
  {
   "cell_type": "code",
   "execution_count": 2,
   "id": "d2e97727-fef2-40ad-a6de-eef7e03e8963",
   "metadata": {},
   "outputs": [
    {
     "name": "stdout",
     "output_type": "stream",
     "text": [
      "This car has 15 miles on it.\n"
     ]
    }
   ],
   "source": [
    "from car import Car\n",
    "my_new_car = Car('audi', 'a4', 2016)\n",
    "my_new_car.update_odometer(15)\n",
    "my_new_car.read_odometer()"
   ]
  },
  {
   "cell_type": "code",
   "execution_count": 3,
   "id": "73075be3-b334-469d-9c75-fff90cc16fe2",
   "metadata": {},
   "outputs": [],
   "source": [
    "from car import Car\n",
    "my_new_car = Car('audi', 'a4', 2016)\n",
    "my_new_car.update_odometer(15)"
   ]
  },
  {
   "cell_type": "code",
   "execution_count": 4,
   "id": "6fa9e426-4f78-4eb5-9190-15bb38bab2f1",
   "metadata": {},
   "outputs": [
    {
     "name": "stdout",
     "output_type": "stream",
     "text": [
      "This car has 15 miles on it.\n"
     ]
    }
   ],
   "source": [
    "from car import Car\n",
    "my_new_car = Car('audi', 'a4', 2016)\n",
    "my_new_car.update_odometer(15)\n",
    "my_new_car.read_odometer()"
   ]
  },
  {
   "cell_type": "code",
   "execution_count": 2,
   "id": "b5c4a146-a78f-4cfb-a2c0-fec775638be4",
   "metadata": {},
   "outputs": [
    {
     "name": "stdout",
     "output_type": "stream",
     "text": [
      "This car has 12 miles on it.\n"
     ]
    }
   ],
   "source": [
    "from car import Car\n",
    "my_new_car = Car('audi', 'a4', 2016)\n",
    "my_new_car.icrement_odometer(12)\n",
    "my_new_car.read_odometer()"
   ]
  },
  {
   "cell_type": "code",
   "execution_count": 1,
   "id": "9c58a3b0-d92a-40cb-8cad-7371c1924a20",
   "metadata": {},
   "outputs": [
    {
     "name": "stdout",
     "output_type": "stream",
     "text": [
      "2016 Telsa Model S\n",
      "This car has a 70-KWh battery\n",
      "This car doesn't need a gas tank!\n",
      "This car has a 70-KWh battery.\n",
      "This car can go approximately 240 miles on a full charge.\n"
     ]
    }
   ],
   "source": [
    "from electric_car import ElectricCar\n",
    "my_telsa = ElectricCar('telsa', 'model s', '2016')\n",
    "print(my_telsa.get_descriptive_name())\n",
    "my_telsa.describe_battery()\n",
    "my_telsa.fill_gas_tank()\n",
    "my_telsa.battery.describe_battery()\n",
    "my_telsa.battery.get_range()"
   ]
  },
  {
   "cell_type": "code",
   "execution_count": 5,
   "id": "72c824ee-e2b6-4e2c-a006-e9f6af9e1897",
   "metadata": {},
   "outputs": [
    {
     "name": "stdout",
     "output_type": "stream",
     "text": [
      "2011 Honda Xv5\n",
      "This car doesn't need a gas tank!\n",
      "This car can go approximately 240 miles on a full charge.\n"
     ]
    }
   ],
   "source": [
    "from electric_car import Car,ElectricCar,Battery\n",
    "my_hodoa = Car('honda', 'xv5', '2011')\n",
    "print(my_hodoa.get_descriptive_name())\n",
    "my_byd = ElectricCar('byd', 'Han', '2022')\n",
    "my_byd.fill_gas_tank()\n",
    "my_battery = Battery()\n",
    "my_battery.get_range()"
   ]
  },
  {
   "cell_type": "code",
   "execution_count": 7,
   "id": "ef9e646a-5d97-4d54-9902-169bc369bda7",
   "metadata": {},
   "outputs": [
    {
     "name": "stdout",
     "output_type": "stream",
     "text": [
      "2025 Byd Qin\n",
      "This car can go approximately 240 miles on a full charge.\n"
     ]
    }
   ],
   "source": [
    "import electric_car\n",
    "\n",
    "my_byd = electric_car.ElectricCar('byd', 'QIN', '2025')\n",
    "print(my_byd.get_descriptive_name())\n",
    "my_battery = electric_car.Battery()\n",
    "my_battery.get_range()"
   ]
  },
  {
   "cell_type": "code",
   "execution_count": 10,
   "id": "bbdcaa51-b0ab-47bf-8dcf-a85363d20393",
   "metadata": {},
   "outputs": [
    {
     "name": "stdout",
     "output_type": "stream",
     "text": [
      "Jen's favourite language is  Python.\n",
      "Sarah's favourite language is  C.\n",
      "Edward's favourite language is  Ruby.\n",
      "Phil's favourite language is  Pyton.\n"
     ]
    }
   ],
   "source": [
    "# The Standard libiaries\n",
    "from collections import OrderedDict\n",
    "\n",
    "favourite_languages = OrderedDict()\n",
    "\n",
    "favourite_languages['jen'] = 'python'\n",
    "favourite_languages['sarah'] = 'c'\n",
    "favourite_languages['edward'] = 'ruby'\n",
    "favourite_languages['phil'] = 'pyton'\n",
    "\n",
    "for name, language in favourite_languages.items():\n",
    "    print(name.title() + \"'s favourite language is  \" + language.title() + \".\")"
   ]
  },
  {
   "cell_type": "code",
   "execution_count": null,
   "id": "a324eba1-2e39-45cf-91bc-c4579fce0878",
   "metadata": {},
   "outputs": [],
   "source": []
  }
 ],
 "metadata": {
  "kernelspec": {
   "display_name": "Python 3 (ipykernel)",
   "language": "python",
   "name": "python3"
  },
  "language_info": {
   "codemirror_mode": {
    "name": "ipython",
    "version": 3
   },
   "file_extension": ".py",
   "mimetype": "text/x-python",
   "name": "python",
   "nbconvert_exporter": "python",
   "pygments_lexer": "ipython3",
   "version": "3.11.11"
  }
 },
 "nbformat": 4,
 "nbformat_minor": 5
}
