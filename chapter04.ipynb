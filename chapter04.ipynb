{
 "cells": [
  {
   "cell_type": "code",
   "execution_count": 2,
   "id": "9fd72c12-3296-4df9-9345-7d7406d2e962",
   "metadata": {},
   "outputs": [
    {
     "name": "stdout",
     "output_type": "stream",
     "text": [
      "alice\n",
      "david\n",
      "carolina\n"
     ]
    }
   ],
   "source": [
    "# working with list\n",
    "magicians = ['alice','david','carolina']\n",
    "for magician in magicians:\n",
    "    print(magician)"
   ]
  },
  {
   "cell_type": "code",
   "execution_count": 3,
   "id": "84f6cd6b-2354-4338-9abf-970173203903",
   "metadata": {},
   "outputs": [
    {
     "name": "stdout",
     "output_type": "stream",
     "text": [
      "Alice, that was a great trick!\n",
      "David, that was a great trick!\n",
      "Carolina, that was a great trick!\n"
     ]
    }
   ],
   "source": [
    "for magician in magicians:\n",
    "    print(magician.title() + \", that was a great trick!\")"
   ]
  },
  {
   "cell_type": "code",
   "execution_count": 4,
   "id": "77c18415-8bb6-442b-beee-849ec04abf44",
   "metadata": {},
   "outputs": [
    {
     "name": "stdout",
     "output_type": "stream",
     "text": [
      "Alice, that was a great trick!\n",
      "David, that was a great trick!\n",
      "Carolina, that was a great trick!\n",
      "Thank you,everyone. That was a great magic show!\n"
     ]
    }
   ],
   "source": [
    "for magician in magicians:\n",
    "    print(magician.title() + \", that was a great trick!\")\n",
    "print(\"Thank you,everyone. That was a great magic show!\")"
   ]
  },
  {
   "cell_type": "code",
   "execution_count": 5,
   "id": "6a325f49-1b50-4e74-93aa-f4d58d447642",
   "metadata": {},
   "outputs": [
    {
     "name": "stdout",
     "output_type": "stream",
     "text": [
      "1\n",
      "2\n",
      "3\n",
      "4\n"
     ]
    }
   ],
   "source": [
    "for value in range(1,5):\n",
    "    print(value)"
   ]
  },
  {
   "cell_type": "code",
   "execution_count": 6,
   "id": "8c90e06a-cc0f-4579-a35b-4a5321cebaee",
   "metadata": {},
   "outputs": [
    {
     "name": "stdout",
     "output_type": "stream",
     "text": [
      "[1, 2, 3, 4, 5]\n"
     ]
    }
   ],
   "source": [
    "numbers = list(range(1,6))\n",
    "print(numbers)"
   ]
  },
  {
   "cell_type": "code",
   "execution_count": 7,
   "id": "d33cb455-6e75-45b9-a06a-2c9dca181c52",
   "metadata": {},
   "outputs": [
    {
     "name": "stdout",
     "output_type": "stream",
     "text": [
      "[2, 4, 6, 8, 10]\n"
     ]
    }
   ],
   "source": [
    "even_numbers = list(range(2,11,2))\n",
    "print(even_numbers)"
   ]
  },
  {
   "cell_type": "code",
   "execution_count": 8,
   "id": "33bec9ce-a956-4fee-b1d2-3bf9531734e7",
   "metadata": {},
   "outputs": [
    {
     "name": "stdout",
     "output_type": "stream",
     "text": [
      "[1, 4, 9, 16, 25, 36, 49, 64, 81, 100]\n"
     ]
    }
   ],
   "source": [
    "squares = []\n",
    "for value in range(1,11):\n",
    "    squares.append(value ** 2)\n",
    "print(squares)"
   ]
  },
  {
   "cell_type": "code",
   "execution_count": 9,
   "id": "9602fc83-e556-48ad-b930-aee0983d791f",
   "metadata": {},
   "outputs": [
    {
     "name": "stdout",
     "output_type": "stream",
     "text": [
      "10\n",
      "1\n",
      "55\n"
     ]
    }
   ],
   "source": [
    "digits = list(range(1,11))\n",
    "print(max(digits))\n",
    "print(min(digits))\n",
    "print(sum(digits))"
   ]
  },
  {
   "cell_type": "code",
   "execution_count": 11,
   "id": "b9ea7633-7e9e-48d8-a37f-cb55f56b9bf0",
   "metadata": {},
   "outputs": [
    {
     "name": "stdout",
     "output_type": "stream",
     "text": [
      "[1, 4, 9, 16, 25, 36, 49, 64, 81, 100]\n"
     ]
    }
   ],
   "source": [
    "squares = [value ** 2 for value in range(1,11)]\n",
    "print(squares)"
   ]
  },
  {
   "cell_type": "code",
   "execution_count": 12,
   "id": "7110fd9e-98b5-44aa-b8c1-64336168bdd5",
   "metadata": {},
   "outputs": [
    {
     "name": "stdout",
     "output_type": "stream",
     "text": [
      "['charles', 'martina', 'michael']\n"
     ]
    }
   ],
   "source": [
    "players = [\"charles\",\"martina\",\"michael\",\"florence\",\"eli\"]\n",
    "print(players[0:3])"
   ]
  },
  {
   "cell_type": "code",
   "execution_count": 14,
   "id": "343d436c-4e2b-4d08-8e53-a1e97af770de",
   "metadata": {},
   "outputs": [
    {
     "name": "stdout",
     "output_type": "stream",
     "text": [
      "['martina', 'michael']\n"
     ]
    }
   ],
   "source": [
    "print(players[1:3])"
   ]
  },
  {
   "cell_type": "code",
   "execution_count": 15,
   "id": "fb72ad14-19c4-4f1c-aa42-9eb647414c4d",
   "metadata": {},
   "outputs": [
    {
     "name": "stdout",
     "output_type": "stream",
     "text": [
      "['charles', 'martina', 'michael', 'florence']\n"
     ]
    }
   ],
   "source": [
    "print(players[:4])"
   ]
  },
  {
   "cell_type": "code",
   "execution_count": 16,
   "id": "b2545402-0d76-4977-9076-97b77f5a13b4",
   "metadata": {},
   "outputs": [
    {
     "name": "stdout",
     "output_type": "stream",
     "text": [
      "['michael', 'florence', 'eli']\n"
     ]
    }
   ],
   "source": [
    "print(players[-3:])"
   ]
  },
  {
   "cell_type": "code",
   "execution_count": 18,
   "id": "2c8b667e-e52f-445b-9019-8f20d240963f",
   "metadata": {},
   "outputs": [
    {
     "name": "stdout",
     "output_type": "stream",
     "text": [
      "here are the first three players:\n",
      "Charles\n",
      "Martina\n",
      "Michael\n"
     ]
    }
   ],
   "source": [
    "print(\"here are the first three players:\")\n",
    "for player in players[0:3]:\n",
    "    print(player.title())"
   ]
  },
  {
   "cell_type": "code",
   "execution_count": 19,
   "id": "6f6ac290-3613-409e-9b48-ff1422c644c2",
   "metadata": {},
   "outputs": [
    {
     "name": "stdout",
     "output_type": "stream",
     "text": [
      "My favourite foods are: ['pizza', 'falafel', 'carrot cake']\n",
      "\n",
      "My friend's favourite foods are: ['pizza', 'falafel', 'carrot cake']\n"
     ]
    }
   ],
   "source": [
    "my_foods = ['pizza','falafel','carrot cake']\n",
    "friend_foods = my_foods[:]\n",
    "print(\"My favourite foods are: \" + str(my_foods) + \"\\n\")\n",
    "print(\"My friend's favourite foods are: \" + str(friend_foods))"
   ]
  },
  {
   "cell_type": "code",
   "execution_count": 20,
   "id": "d2e908a3-796f-4ca2-a414-09fe63a61b36",
   "metadata": {},
   "outputs": [
    {
     "name": "stdout",
     "output_type": "stream",
     "text": [
      "My favourite foods are:  ['pizza', 'falafel', 'carrot cake', 'canoli']\n",
      "My friend's favourite foods are:  ['pizza', 'falafel', 'carrot cake', 'ice_cream']\n"
     ]
    }
   ],
   "source": [
    "my_foods.append(\"canoli\")\n",
    "friend_foods.append(\"ice_cream\")\n",
    "print(\"My favourite foods are: \",str(my_foods))\n",
    "print(\"My friend's favourite foods are: \", str(friend_foods))"
   ]
  },
  {
   "cell_type": "code",
   "execution_count": null,
   "id": "f04c4715-1a7d-480a-a0d8-eed677944481",
   "metadata": {},
   "outputs": [],
   "source": []
  }
 ],
 "metadata": {
  "kernelspec": {
   "display_name": "Python 3 (ipykernel)",
   "language": "python",
   "name": "python3"
  },
  "language_info": {
   "codemirror_mode": {
    "name": "ipython",
    "version": 3
   },
   "file_extension": ".py",
   "mimetype": "text/x-python",
   "name": "python",
   "nbconvert_exporter": "python",
   "pygments_lexer": "ipython3",
   "version": "3.11.11"
  }
 },
 "nbformat": 4,
 "nbformat_minor": 5
}
